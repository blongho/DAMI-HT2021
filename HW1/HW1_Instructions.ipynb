{
 "cells": [
  {
   "cell_type": "markdown",
   "source": [
    "# HW1: Data exploration and Dimensionality reduction"
   ],
   "metadata": {}
  },
  {
   "cell_type": "markdown",
   "source": [
    "In this assignment you will explore the dataset, handle the missing values, standardize the data and and reduce the dimensionality of the feature space. The learning outcome of this part is to know how one can pre-process a real-world dataset and prepare for a supervised or unsupervised learning task."
   ],
   "metadata": {}
  },
  {
   "cell_type": "markdown",
   "source": [
    "### Student information\r\n",
    "Please provide your information for grading."
   ],
   "metadata": {}
  },
  {
   "cell_type": "code",
   "execution_count": 1,
   "source": [
    "STUD_SUID = 'Your su account (e.g., pang1234)'\r\n",
    "STUD_NAME = 'First and Last name'\r\n",
    "STUD_EMAIL = 'student@stud.dsv.su.se'"
   ],
   "outputs": [],
   "metadata": {}
  },
  {
   "cell_type": "markdown",
   "source": [
    "##  Grading: \r\n",
    "\r\n",
    "Total points: 4"
   ],
   "metadata": {}
  },
  {
   "cell_type": "markdown",
   "source": [
    "## OUTLINE: \r\n",
    "\r\n",
    "Data pre-processing, plotting and dimensionality reduction\r\n",
    "\r\n",
    "1. Reading the file, points: 0.1\r\n",
    "2. Missing Values, points: 0.2\r\n",
    "3. Impute with scikit-learn, points: 0.2\r\n",
    "4. Implement imputation, points: 0.7\r\n",
    "5. Plotting, total points: 0.5\r\n",
    "    - Boxplots, points: 0.1\r\n",
    "    - Pregnancies by class, points: 0.1\r\n",
    "    - Age by class, points: 0.2\r\n",
    "    - Pairplot, points: 0.1\r\n",
    "6. Standardization, points: 0.3\r\n",
    "7. Dimensionality reduction, total points: 0.5\r\n",
    "    - pca plotting, points: 0.3\r\n",
    "    - pca heatmap, points: 0.2\r\n",
    "8. Multi-Dimensional Scaling, total points: 1.5\r\n",
    "    - Multi-Dimensional Scaling, points: 0.7\r\n",
    "    - Multi-Dimensional Scaling with distances , points: 0.8"
   ],
   "metadata": {}
  },
  {
   "cell_type": "markdown",
   "source": [
    "## `NOTE: Each function you make will be graded, so it is important to strictly follow input and output instructions stated in the skeleton code. Some of the cells have already some variables that are filled with None values or empty dataframes, you should change those nan/empty values to what is asked in the tasks (we only stored the empty values so the whole notebook can run error free). You should not delete any of the given cells as they will help us grade the assignment. Some cells ask you to uncomment some comments, please only do so if you have solved the respective task. When you are finished with implementing all the tasks, clear all outputs,  **restart the kernel**, run all cells again (make sure there is no error) and submit! Make sure that the results and figures asked are visible for us to grade. ` \r\n"
   ],
   "metadata": {}
  },
  {
   "cell_type": "code",
   "execution_count": 2,
   "source": [
    "#these are the libraries that you will need throughout the assignment. If you need anything else you can either import it here or in the cell were you are working on. \r\n",
    "import numpy as np \r\n",
    "import pandas as pd\r\n",
    "\r\n",
    "import matplotlib.pyplot as plt \r\n",
    "import seaborn as sns\r\n",
    "%matplotlib inline\r\n",
    "\r\n",
    "from sklearn.impute import SimpleImputer\r\n",
    "from sklearn.preprocessing import StandardScaler\r\n",
    "from sklearn.decomposition import PCA\r\n",
    "from sklearn.manifold import MDS\r\n",
    "RSEED = 8 \r\n"
   ],
   "outputs": [],
   "metadata": {}
  },
  {
   "cell_type": "markdown",
   "source": [
    "## DATA PRE-PROCESSING, PLOTTING AND DIMENSIONALITY REDUCTION"
   ],
   "metadata": {}
  },
  {
   "cell_type": "markdown",
   "source": [
    "We will use **Pima Indians Diabetes Database** that is publicly available and from UCI. However, we removed and changed some parts of the dataset for the homework evaluation, so **please use the one in the zip file provided in ilearn**.\r\n",
    "\r\n",
    "This dataset is originally from the National Institute of Diabetes and Digestive and Kidney Diseases. The objective of the dataset is to diagnostically predict whether or not a patient has diabetes, based on specific diagnostic measurements included in the dataset. Several constraints were placed on the selection of these instances from a larger database. In particular, all patients here are females at least 21 years old of Pima Indian heritage.\r\n"
   ],
   "metadata": {}
  },
  {
   "cell_type": "markdown",
   "source": [
    "The dataset consists of several medical predictors (independent) variables and one target (dependent) variable, Outcome. Independent variables include the number of pregnancies the patient has had, their BMI, insulin level, age, and so on.\r\n",
    "\r\n",
    "According to the information on the data, it has eight attributes and one binary class. The brief explanation of the attributes are as follows:\r\n",
    "\r\n",
    "- Pregnancies: Number of times pregnant.\r\n",
    "\r\n",
    "- Glucose: Plasma glucose concentration a 2 hours in an oral glucose tolerance test.\r\n",
    "\r\n",
    "- BloodPressure: Diastolic blood pressure (mm Hg).\r\n",
    "\r\n",
    "- SkinThickness: Triceps skin fold thickness (mm).\r\n",
    "\r\n",
    "- Insulin: 2-Hour serum insulin (mu U/ml).\r\n",
    "\r\n",
    "- BMI: Body mass index (weight in kg/(height in m)^2).\r\n",
    "\r\n",
    "- DiabetesPedigreeFunction: Diabetes pedigree function.\r\n",
    "\r\n",
    "- Age: Age (years).\r\n",
    "\r\n",
    "- and we have a binary class which can be 0 (healthy) or 1 (diabetes)."
   ],
   "metadata": {}
  },
  {
   "cell_type": "markdown",
   "source": [
    "## *1.* Reading the file"
   ],
   "metadata": {}
  },
  {
   "cell_type": "markdown",
   "source": [
    "### `Task: Read the dataset using pandas. Use the file called diabetes.csv that you will find on ilearn on HW1.zip under the folder datasets.`"
   ],
   "metadata": {}
  },
  {
   "cell_type": "code",
   "execution_count": 3,
   "source": [
    "# Write your code here\r\n",
    "# call your dataset: data\r\n",
    "\r\n",
    "data = pd.DataFrame() #change this"
   ],
   "outputs": [],
   "metadata": {}
  },
  {
   "cell_type": "code",
   "execution_count": 4,
   "source": [
    "# do not delete this!\r\n",
    "data.head(5)"
   ],
   "outputs": [
    {
     "output_type": "execute_result",
     "data": {
      "text/html": [
       "<div>\n",
       "<style scoped>\n",
       "    .dataframe tbody tr th:only-of-type {\n",
       "        vertical-align: middle;\n",
       "    }\n",
       "\n",
       "    .dataframe tbody tr th {\n",
       "        vertical-align: top;\n",
       "    }\n",
       "\n",
       "    .dataframe thead th {\n",
       "        text-align: right;\n",
       "    }\n",
       "</style>\n",
       "<table border=\"1\" class=\"dataframe\">\n",
       "  <thead>\n",
       "    <tr style=\"text-align: right;\">\n",
       "      <th></th>\n",
       "    </tr>\n",
       "  </thead>\n",
       "  <tbody>\n",
       "  </tbody>\n",
       "</table>\n",
       "</div>"
      ],
      "text/plain": [
       "Empty DataFrame\n",
       "Columns: []\n",
       "Index: []"
      ]
     },
     "metadata": {},
     "execution_count": 4
    }
   ],
   "metadata": {}
  },
  {
   "cell_type": "code",
   "execution_count": 5,
   "source": [
    "# if you want to see information about the dataset:\r\n",
    "data.info()"
   ],
   "outputs": [
    {
     "output_type": "stream",
     "name": "stdout",
     "text": [
      "<class 'pandas.core.frame.DataFrame'>\n",
      "Index: 0 entries\n",
      "Empty DataFrame"
     ]
    }
   ],
   "metadata": {
    "tags": []
   }
  },
  {
   "cell_type": "markdown",
   "source": [
    "## *2.* Missing values"
   ],
   "metadata": {}
  },
  {
   "cell_type": "markdown",
   "source": [
    "### It seems like there is no null data. However, if you check zero values in the dataset, there are so many of them. \r\n",
    "\r\n",
    "### `Task: Plot a bar plot of the missing values (zero values) per attribute, that exist in the dataset. `\r\n",
    "\r\n"
   ],
   "metadata": {}
  },
  {
   "cell_type": "code",
   "execution_count": 6,
   "source": [
    "# the steps are just indicative, if you want to do it your own way, please do so as long as you print the required barplot. \r\n",
    "# step 1: store the sum of missing values (the zero values) per attribure in a pandas Series\r\n",
    "# step 2: plot the missing values series as a barplot. You can use pandas to plot the series. \r\n",
    "\r\n",
    "# Write your code here\r\n",
    "\r\n"
   ],
   "outputs": [],
   "metadata": {}
  },
  {
   "cell_type": "markdown",
   "source": [
    "## *3.* Impute with scikit-learn"
   ],
   "metadata": {}
  },
  {
   "cell_type": "markdown",
   "source": [
    "### Is it normal that people's BMI is zero? or not? What about Glucose, and Blood Pressure? You may want to change the zero values into another reasonable value, such as mean or median. The only thing that can have zero value is **pregnancies**. \r\n",
    "\r\n",
    "### **NOTE**! The outcome is your class, which is not included here in the cleaning process. So it should be left out. \r\n",
    "\r\n",
    "### `Task: Impute the missing values using the SimpleImputer from scikit-learn with strategy = 'mean'`\r\n",
    "### For the scikit-learn imputation, you can find more information [here](https://scikit-learn.org/stable/modules/impute.html).\r\n"
   ],
   "metadata": {}
  },
  {
   "cell_type": "code",
   "execution_count": 29,
   "source": [
    "# Scickit-learn version\r\n",
    "# The steps are just indicative, if you want to do it your own way, please do so as long you store in data_imputed a dataset that includes \r\n",
    "# both the imputed attributes and the ones that you did not impute (Pregnancies, Outcome). The original dataframe called 'data' should remain unchanged. \r\n",
    "  \r\n",
    "# step 1: create a copy of the original dataset called data_imputed\r\n",
    "# step 2: create a list with the names of the attributes that you will impute, call it columns\r\n",
    "# step 3: create a new dataset called df_part, that includes only the columns that you will impute (the ones from step 2)\r\n",
    "# step 4: Change the zero values in the columns to np.nan\r\n",
    "# step 5: define the SimpleImputer object (from sklearn) with strategy='mean' and call it imputer, fit and transform the dataset that you created in step 3 \r\n",
    "# step 6: convert the resulting array from step 5 into a dataframe, as column names you can pass the names of attributes of the list that you created in step 2. call it df_converted\r\n",
    "# step 7: in data_imputed (which is still a copy of data (the original dataset) replace the attributes you wanted to impute with the attribures in df_converted. \r\n",
    "\r\n",
    "# Important:\r\n",
    "# The dataframe called 'data' should remain unchanged. \r\n",
    "# data_imputed should contain all 8 attributes, where every attribute -except 'Pregnancies' and 'Outcome'- have imputed values \r\n",
    "\r\n",
    "\r\n",
    "# Write your code here\r\n",
    "\r\n",
    "\r\n",
    "\r\n",
    "data_imputed = pd.DataFrame([]) #change this"
   ],
   "outputs": [],
   "metadata": {}
  },
  {
   "cell_type": "code",
   "execution_count": 30,
   "source": [
    "# if you successfuly finished the imputation for task3, uncomment the following:\r\n",
    "#data.describe()\r\n"
   ],
   "outputs": [],
   "metadata": {}
  },
  {
   "cell_type": "code",
   "execution_count": 31,
   "source": [
    "# if you successfuly finished the imputation for task3, uncomment the following:\r\n",
    "#data_imputed.describe()"
   ],
   "outputs": [],
   "metadata": {}
  },
  {
   "cell_type": "markdown",
   "source": [
    "## *4.* Implement imputation"
   ],
   "metadata": {}
  },
  {
   "cell_type": "markdown",
   "source": [
    "### `Task: Make a function changing zero values into the mean of the column. In order to get the points it is necessary to write the code yourself and not use skickit-learn.`\r\n",
    "### You will impute the missing values with the mean of the column without using scikit-learn. You will store the resulting dataset in diabetes_1. diabetes_1 will not be used again after this task. "
   ],
   "metadata": {}
  },
  {
   "cell_type": "code",
   "execution_count": 32,
   "source": [
    "def imputation(df, columns):\r\n",
    "    \"\"\"\r\n",
    "     A function to change nan value (or zero value) to the mean of the attribute\r\n",
    "        \r\n",
    "        # the steps are just indicative\r\n",
    "        - Step 1: Get a part of dataframe using columns received as a parameter.\r\n",
    "        - Step 2: Change the zero values in the columns to np.nan\r\n",
    "        - Step 3: Change the nan values to the mean of each attribute (column). \r\n",
    "                  You could use the apply(), fillna() functions.\r\n",
    "        \r\n",
    "        Input:\r\n",
    "          df: A dataframe to apply imputation\r\n",
    "          columns: A list of columns that need to be imputed\r\n",
    "          \r\n",
    "        Output:\r\n",
    "          An imputed dataframe\r\n",
    "    \r\n",
    "    \"\"\"\r\n",
    "\r\n",
    "    #Write your code here\r\n",
    "\r\n",
    "\r\n",
    "    \r\n",
    "    return None #change this None to the df to be returned"
   ],
   "outputs": [],
   "metadata": {}
  },
  {
   "cell_type": "code",
   "execution_count": 33,
   "source": [
    "\r\n",
    "diabetes_1 = imputation(data, [\"Glucose\", \"BloodPressure\", \"SkinThickness\", \"Insulin\", \"BMI\", \"DiabetesPedigreeFunction\", \"Age\"])"
   ],
   "outputs": [],
   "metadata": {}
  },
  {
   "cell_type": "code",
   "execution_count": 34,
   "source": [
    "# if you successfuly finished the imputation, uncomment this\r\n",
    "\"\"\"\r\n",
    "from pandas.util.testing import assert_frame_equal\r\n",
    "\r\n",
    "try:\r\n",
    "    assert_frame_equal(data_imputed, diabetes_1, check_dtype=False, check_less_precise=True)\r\n",
    "    print(\"result: equal\")\r\n",
    "except:\r\n",
    "    print(\"result: not equal\")\r\n",
    "\r\n",
    "\"\"\""
   ],
   "outputs": [
    {
     "output_type": "execute_result",
     "data": {
      "text/plain": [
       "'\\nfrom pandas.util.testing import assert_frame_equal\\n\\ntry:\\n    assert_frame_equal(data_imputed, diabetes_1, check_dtype=False, check_less_precise=True)\\n    print(\"result: equal\")\\nexcept:\\n    print(\"result: not equal\")\\n\\n'"
      ]
     },
     "metadata": {},
     "execution_count": 34
    }
   ],
   "metadata": {}
  },
  {
   "cell_type": "markdown",
   "source": [
    "## *5.* Plotting"
   ],
   "metadata": {}
  },
  {
   "cell_type": "markdown",
   "source": [
    "### a.\tBoxplots\r\n",
    "\r\n",
    "### `Task: Create 4 boxplots in 1 figure for the following attributes: Glucose, BloodPressure, Insulin, BMI`"
   ],
   "metadata": {}
  },
  {
   "cell_type": "code",
   "execution_count": 35,
   "source": [
    "# You can find a similar example in Lab1_Preprocessing_EDA. \r\n",
    "# Create 1 figure with 4 subplots. Each axes should contain the boxplot of the specified attributes and corresponding titles. Use data_imputed \r\n",
    "\r\n",
    "\r\n",
    "fig, ax = plt.subplots(1, 4)#create 1 row with 4 plots\r\n",
    "#Write your code here\r\n"
   ],
   "outputs": [
    {
     "output_type": "display_data",
     "data": {
      "image/png": "[encoded data removed]",
      "text/plain": [
       "<Figure size 432x288 with 4 Axes>"
      ]
     },
     "metadata": {
      "needs_background": "light"
     }
    }
   ],
   "metadata": {}
  },
  {
   "cell_type": "markdown",
   "source": [
    "## b.\tPregnancies by class \r\n",
    "\r\n",
    "### `Task:  Plot the Pregnancies attribute in relation to the class (Outcome). Make a grouped barplot`\r\n"
   ],
   "metadata": {}
  },
  {
   "cell_type": "code",
   "execution_count": 14,
   "source": [
    "# The steps are just indicative, if you want to do it your own way, please do so as long as you plot the asked figure\r\n",
    "# step 1: Store in pregnancies_by_class, a dataframe with the counts of unique values of the attribute pregnancies by class (Outcome). You can use groupby() and value_counts()\r\n",
    "# step 2: Plot a barplot for the pregnancies_by_class. You can use pandas to plot it.\r\n",
    "\r\n",
    "#Write your code here\r\n",
    "\r\n",
    "\r\n",
    "\r\n"
   ],
   "outputs": [],
   "metadata": {}
  },
  {
   "cell_type": "markdown",
   "source": [
    "## c.\tAge by class \r\n",
    "\r\n",
    "### `Task:  Plot the Age attribute in groups of 10 years in relation to the class (Outcome)`\r\n",
    "\r\n",
    "Information about the cut function [here](https://pandas.pydata.org/pandas-docs/stable/reference/api/pandas.cut.html)"
   ],
   "metadata": {}
  },
  {
   "cell_type": "code",
   "execution_count": 15,
   "source": [
    "# step 1: Divide the age column into the following age groups: 0-19, 20-29, 30-39, 40-49, 50-59, 60-69, 70-79, 80-100 using the cut function from pandas. The new column should be called age_bins.\r\n",
    "# step 2: Store in age_by_class, a dataframe with the counts of unique values of the attribute age_bins by class. You can use groupby() and value_counts()\r\n",
    "# step 2: Plot a barplot for the age_by_class. You can use pandas to plot it.\r\n",
    "# step 3: **Drop the age_bins** attribute from data_imputed after you have plotted the barchart. Do not skip dropping the age_bins\r\n",
    "\r\n",
    "#Write your code here\r\n",
    "\r\n",
    "\r\n"
   ],
   "outputs": [],
   "metadata": {}
  },
  {
   "cell_type": "code",
   "execution_count": 16,
   "source": [
    "# do not delete this\r\n",
    "data_imputed.head()"
   ],
   "outputs": [
    {
     "output_type": "execute_result",
     "data": {
      "text/html": [
       "<div>\n",
       "<style scoped>\n",
       "    .dataframe tbody tr th:only-of-type {\n",
       "        vertical-align: middle;\n",
       "    }\n",
       "\n",
       "    .dataframe tbody tr th {\n",
       "        vertical-align: top;\n",
       "    }\n",
       "\n",
       "    .dataframe thead th {\n",
       "        text-align: right;\n",
       "    }\n",
       "</style>\n",
       "<table border=\"1\" class=\"dataframe\">\n",
       "  <thead>\n",
       "    <tr style=\"text-align: right;\">\n",
       "      <th></th>\n",
       "    </tr>\n",
       "  </thead>\n",
       "  <tbody>\n",
       "  </tbody>\n",
       "</table>\n",
       "</div>"
      ],
      "text/plain": [
       "Empty DataFrame\n",
       "Columns: []\n",
       "Index: []"
      ]
     },
     "metadata": {},
     "execution_count": 16
    }
   ],
   "metadata": {}
  },
  {
   "cell_type": "markdown",
   "source": [
    "## d.\tPairplot\r\n",
    "\r\n",
    "### `Task: Make a pairplot of all the numerical values of the dataset. You can use seaborn.`"
   ],
   "metadata": {}
  },
  {
   "cell_type": "code",
   "execution_count": 36,
   "source": [
    "\r\n",
    "# step1: make a pairplot, using seaborn, of all the numerical values of data_imputed. Pass hue = 'Outcome'\r\n",
    "# Write your code here\r\n",
    "\r\n"
   ],
   "outputs": [],
   "metadata": {}
  },
  {
   "cell_type": "markdown",
   "source": [
    "## *6.* Standardization"
   ],
   "metadata": {}
  },
  {
   "cell_type": "markdown",
   "source": [
    "### Standardization transforms data to have a mean of zero and a standard deviation of 1. \r\n",
    "\r\n",
    "### It is a crucial step before performing PCA, since we are interested in the components that maximize the variance. \r\n",
    "\r\n",
    "\r\n",
    "\r\n",
    "\r\n",
    "\r\n",
    "### `Task: Standardize the data_imputed dataset. You can use sklearn.  `\r\n",
    "### NOTE! Outcome is the class of the dataset indicating if a patient is healthy or has diabetes. As we discussed in the lab, the class should not be included in the standardization. "
   ],
   "metadata": {}
  },
  {
   "cell_type": "code",
   "execution_count": 18,
   "source": [
    "# the steps are just indicative\r\n",
    "# step 1: Use StandardScaler to fit_transform data_imputed, excluding the class (Outcome)\r\n",
    "# step 3: Transform the standardized numpy matrix returned by StandardScaler into a dataframe called data_standardized.\r\n",
    "# step 4: Rename the columns of the dataframe with their corresponding names.\r\n",
    "# step 5: Store in a variable called y the attribute Outcome (your class)\r\n",
    "\r\n",
    "# Write your code here\r\n",
    "\r\n",
    "\r\n",
    "y = pd.Series()#change this\r\n",
    "data_standardized = pd.DataFrame()#change this \r\n"
   ],
   "outputs": [
    {
     "output_type": "stream",
     "name": "stderr",
     "text": [
      "C:\\Users\\Maria\\AppData\\Roaming\\Python\\Python37\\site-packages\\ipykernel_launcher.py:10: DeprecationWarning: The default dtype for empty Series will be 'object' instead of 'float64' in a future version. Specify a dtype explicitly to silence this warning.\n",
      "  # Remove the CWD from sys.path while we load stuff.\n"
     ]
    }
   ],
   "metadata": {}
  },
  {
   "cell_type": "code",
   "execution_count": 19,
   "source": [
    "# do not delete this\r\n",
    "data_standardized.head(5)"
   ],
   "outputs": [
    {
     "output_type": "execute_result",
     "data": {
      "text/html": [
       "<div>\n",
       "<style scoped>\n",
       "    .dataframe tbody tr th:only-of-type {\n",
       "        vertical-align: middle;\n",
       "    }\n",
       "\n",
       "    .dataframe tbody tr th {\n",
       "        vertical-align: top;\n",
       "    }\n",
       "\n",
       "    .dataframe thead th {\n",
       "        text-align: right;\n",
       "    }\n",
       "</style>\n",
       "<table border=\"1\" class=\"dataframe\">\n",
       "  <thead>\n",
       "    <tr style=\"text-align: right;\">\n",
       "      <th></th>\n",
       "    </tr>\n",
       "  </thead>\n",
       "  <tbody>\n",
       "  </tbody>\n",
       "</table>\n",
       "</div>"
      ],
      "text/plain": [
       "Empty DataFrame\n",
       "Columns: []\n",
       "Index: []"
      ]
     },
     "metadata": {},
     "execution_count": 19
    }
   ],
   "metadata": {}
  },
  {
   "cell_type": "code",
   "execution_count": 20,
   "source": [
    "# do not delete this\r\n",
    "y.head(5)"
   ],
   "outputs": [
    {
     "output_type": "execute_result",
     "data": {
      "text/plain": [
       "Series([], dtype: float64)"
      ]
     },
     "metadata": {},
     "execution_count": 20
    }
   ],
   "metadata": {}
  },
  {
   "cell_type": "markdown",
   "source": [
    "## *7.* Dimensionality Reduction"
   ],
   "metadata": {}
  },
  {
   "cell_type": "markdown",
   "source": [
    "## a. PCA plotting\r\n",
    "\r\n",
    "### `Task: Reduce the dimensionality of the standardized dataset in 2 Principal Components, with Principal Component Analysis. Print the explained variance ratio and a dataframe with all the principal components. `"
   ],
   "metadata": {}
  },
  {
   "cell_type": "code",
   "execution_count": 21,
   "source": [
    "# step1: Reduce the dimensionality of the standardized dataset in 2 Principal Components, with Principal Component analysis. You can use PCA from sklearn. Use random state = RSEED\r\n",
    "# step2: Store the explained variance ratio in an array called explained_variance_ratio.\r\n",
    "# step3: Store in a dataframe called df_principal_components, the result of pca's attribute components_, with the respective attribute names.\r\n",
    "# step4: Plot the two principal components with colors respective to the class (Outcome).\r\n",
    "\r\n",
    "# Write your code here\r\n",
    "\r\n",
    "explained_variance_ratio =  None #change this\r\n",
    "df_principal_components = pd.DataFrame() #change this\r\n",
    "\r\n"
   ],
   "outputs": [],
   "metadata": {}
  },
  {
   "cell_type": "code",
   "execution_count": 22,
   "source": [
    "df_principal_components"
   ],
   "outputs": [
    {
     "output_type": "execute_result",
     "data": {
      "text/html": [
       "<div>\n",
       "<style scoped>\n",
       "    .dataframe tbody tr th:only-of-type {\n",
       "        vertical-align: middle;\n",
       "    }\n",
       "\n",
       "    .dataframe tbody tr th {\n",
       "        vertical-align: top;\n",
       "    }\n",
       "\n",
       "    .dataframe thead th {\n",
       "        text-align: right;\n",
       "    }\n",
       "</style>\n",
       "<table border=\"1\" class=\"dataframe\">\n",
       "  <thead>\n",
       "    <tr style=\"text-align: right;\">\n",
       "      <th></th>\n",
       "    </tr>\n",
       "  </thead>\n",
       "  <tbody>\n",
       "  </tbody>\n",
       "</table>\n",
       "</div>"
      ],
      "text/plain": [
       "Empty DataFrame\n",
       "Columns: []\n",
       "Index: []"
      ]
     },
     "metadata": {},
     "execution_count": 22
    }
   ],
   "metadata": {}
  },
  {
   "cell_type": "code",
   "execution_count": 23,
   "source": [
    "explained_variance_ratio"
   ],
   "outputs": [],
   "metadata": {
    "tags": []
   }
  },
  {
   "cell_type": "markdown",
   "source": [
    "## b. \tHeatmap\r\n",
    "\r\n",
    "### `Task: Use seaborn to plot the heatmap of df_principal_components. Store in a variable called attribure_contributing_the_most, which attribure contributes most to the variance of the 1st PC.`"
   ],
   "metadata": {}
  },
  {
   "cell_type": "code",
   "execution_count": 24,
   "source": [
    "\r\n",
    "#Write your code here\r\n",
    "    \r\n"
   ],
   "outputs": [],
   "metadata": {}
  },
  {
   "cell_type": "code",
   "execution_count": 25,
   "source": [
    "# Which attribute contributes the most in the variance of the 1st principal component? \r\n",
    "# store the name of the attribute here:\r\n",
    "\r\n",
    "attribute_contributing_the_most =  \" ? \""
   ],
   "outputs": [],
   "metadata": {}
  },
  {
   "cell_type": "code",
   "execution_count": 26,
   "source": [
    "# do not delete this\r\n",
    "attribute_contributing_the_most"
   ],
   "outputs": [
    {
     "output_type": "execute_result",
     "data": {
      "text/plain": [
       "' ? '"
      ]
     },
     "metadata": {},
     "execution_count": 26
    }
   ],
   "metadata": {}
  },
  {
   "cell_type": "markdown",
   "source": [
    "## *8.* Multi-Dimensional Scaling\r\n",
    "\r\n",
    "Multidimensional scaling (MDS) seeks a low-dimensional representation of the data in which the distances respect well the distances in the original high-dimensional space.\r\n",
    "In general, MDS is a technique used for analyzing similarity or dissimilarity data and it can help visualize the distances or dissimilarities between sets of objects. Examples of similarity or dissimilarity data might include the distance between pairs of cities (or planets at a particular point in time) or the similarity among groups of people (voters, patients etc). \r\n",
    "\r\n",
    "In these last two excercises we will apply Multi-Dimensional Scaling in our patient dataset using two different versions of the MDS sklearn algorithm. \r\n",
    "\r\n",
    "We will focus on the attribute **dissimilarity** of the MDS object. The attribute can be either 'euclidean' or 'precomputed'. In the former case the euclidean distance between the data points is computed by the algorithm, while in the latter case the user must themeselves compute the dissimilarities between data points and pass this to fit_transform. Your first task will be to apply MDS with dissimilarity='euclidean', while for the second MDS task to compute the distances between the points yourself (using any library you want) and pass dissimilarity='precomputed'. \r\n",
    "\r\n",
    "Please advice the sklearn page for MDS to be able to implement the above tasks: [here](https://scikit-learn.org/stable/modules/generated/sklearn.manifold.MDS.html). Make sure you understand the parameters of fit_transform and how you could use them for the tasks!\r\n"
   ],
   "metadata": {}
  },
  {
   "cell_type": "markdown",
   "source": [
    "## a. Multi-Dimensional Scaling, dissimilarity='euclidean'"
   ],
   "metadata": {}
  },
  {
   "cell_type": "markdown",
   "source": [
    "###   `Task: Apply MDS on the data_standardized with n_components=2 and dissimilarity='euclidean'. Plot the 2 resulting coordinates with colors respective to the class label.`\r\n",
    "\r\n",
    "Note: This is very similar to how we applied sklearn's PCA on task 7!"
   ],
   "metadata": {}
  },
  {
   "cell_type": "code",
   "execution_count": 27,
   "source": [
    "# step 1: Initialize MDS with n_components = 2 and random_state=RSEED\r\n",
    "# step 2: Fit and transform the standardized dataset\r\n",
    "# step 3: Plot the resulting coordinates with colors respective to the class (Outcome).\r\n",
    "\r\n",
    "# write your code here\r\n",
    "\r\n"
   ],
   "outputs": [],
   "metadata": {}
  },
  {
   "cell_type": "markdown",
   "source": [
    "##  b. Multi-Dimensional Scaling with distances"
   ],
   "metadata": {}
  },
  {
   "cell_type": "markdown",
   "source": [
    "### `Task: Compute the pairwise distances between observations using the euclidean metric. Apply MDS on the custom matrix with the pairwise distances with n_components=2 and dissimilarity='precomputed'. Plot the results with colors respective to the class label. \r\n",
    "\r\n",
    "Note the resulting plot should look similar with the one of Task 8. "
   ],
   "metadata": {}
  },
  {
   "cell_type": "code",
   "execution_count": 28,
   "source": [
    "# step 1: compute the pairwise distances between observations using the euclidean metric. \r\n",
    "\r\n",
    "# One of the ways to do this is to use pdist and squareform from the scipy library (see [here](https://docs.scipy.org/doc/scipy/reference/generated/scipy.spatial.distance.pdist.html)) \r\n",
    "# or euclidean_distances from sklearn. In any case the returned array should be: distances ndarray of shape (n_samples_data_standardized, n_samples_data_standardized)\r\n",
    "\r\n",
    "# step 2: create an MDS object with n_components=2, random_state=RSEED, dissimilarity=\"precomputed\"\r\n",
    "# step 3: apply MDS on the constructed square distance matrix from step 1\r\n",
    "# step 4: plot the results with colors respective to the class label\r\n",
    "\r\n",
    "\r\n",
    "# write your code here"
   ],
   "outputs": [],
   "metadata": {}
  },
  {
   "cell_type": "markdown",
   "source": [
    "## `NOTE: Each function you make will be graded, so it is important to strictly follow input and output instructions stated in the skeleton code. Some of the cells have already some variables that are filled with None values or empty dataframes, you should change those nan/empty values to what is asked in the tasks (we only stored the empty values so the whole notebook can run error free). You should not delete any of the given cells as they will help us grade the assignment. Some cells ask you to uncomment some comments, please do so if you have solved the respective task. When you are finished with implementing all the tasks, clear all outputs, **restart the kernel**, run all cells again (make sure there is no error) and submit! Make sure that the results and figures asked are visible for us to grade. ` \r\n"
   ],
   "metadata": {}
  },
  {
   "cell_type": "markdown",
   "source": [
    "# End of assignment 1"
   ],
   "metadata": {}
  }
 ],
 "metadata": {
  "kernelspec": {
   "name": "python3",
   "display_name": "Python 3.7.4 64-bit"
  },
  "language_info": {
   "codemirror_mode": {
    "name": "ipython",
    "version": 3
   },
   "file_extension": ".py",
   "mimetype": "text/x-python",
   "name": "python",
   "nbconvert_exporter": "python",
   "pygments_lexer": "ipython3",
   "version": "3.7.4"
  },
  "interpreter": {
   "hash": "4a3821e50dfd29f54393a38062d93a54d0c9d954cd67861638d013f261604981"
  }
 },
 "nbformat": 4,
 "nbformat_minor": 2
}