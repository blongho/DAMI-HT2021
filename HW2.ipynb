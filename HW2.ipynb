{
 "cells": [
  {
   "cell_type": "markdown",
   "metadata": {},
   "source": [
    "# HW2: Unsupervised Learning - Clustering"
   ]
  },
  {
   "cell_type": "markdown",
   "metadata": {},
   "source": [
    "### In this homework you will work with Unsupervised learning and cluster a real-world dataset. You will apply 4 different algorithms, plot and evaluate the clustering results. Finally you will implement K-medians from scratch!\n",
    "\n"
   ]
  },
  {
   "cell_type": "markdown",
   "metadata": {},
   "source": [
    "## **Student information**\n",
    "Please provide your information for grading."
   ]
  },
  {
   "cell_type": "code",
   "execution_count": 1016,
   "metadata": {},
   "outputs": [],
   "source": [
    "import math\n",
    "\n",
    "STUD_SUID = 'lobe2042'\n",
    "STUD_NAME = 'Longho Bernard Che'\n",
    "STUD_EMAIL = 'lobe2042@student.su.se'"
   ]
  },
  {
   "cell_type": "markdown",
   "metadata": {},
   "source": [
    "##  Grading: \n",
    "\n",
    "Total points: 5"
   ]
  },
  {
   "cell_type": "markdown",
   "metadata": {},
   "source": [
    "## OUTLINE\n",
    "## Total points: 5\n",
    "\n",
    "1. Euclidean - Manhattan , **points: 0.5**\n",
    "2. Purity , **points: 0.6**\n",
    "3. Read and preprocess the wine dataset, **points: 0.2**\n",
    "4. Elbow method, **points: 0.7**\n",
    "5. Run K-means, K-medoids and Agglomerative clustering on the wine dataset, **points: 0.4**\n",
    "6. Evaluation metrics, **points: 0.3**\n",
    "7. Plotting, **points: 0.3**\n",
    "6. Implementation of K-medians, **points: 2**\n"
   ]
  },
  {
   "cell_type": "markdown",
   "metadata": {},
   "source": [
    "## `NOTE: Each function you make will be graded, so it is important to strictly follow input and output instructions stated in the skeleton code. Some of the cells have already some variables that are filled with None values or empty dataframes, you should change those nan/empty values (we refer to it as 'change this') to what is asked in the tasks (we only stored the empty values so the whole notebook can run error free). You should not delete any of the given cells as they will help us grade the assignment. Some cells ask you to uncomment some comments, please only do so if you have solved the respective task. When you are finished with implementing all the tasks, clear all outputs,  **restart the kernel**, run all cells again (make sure there is no error) and submit! Make sure that the results and figures asked are visible for us to grade. ` "
   ]
  },
  {
   "cell_type": "markdown",
   "metadata": {},
   "source": [
    "## The dataset that you will use in this assignment is the Wine Dataset which you will download using sklearns dataset module (instructions are provided below in Task3):\n",
    "\n",
    "Information can be found in the [link](https://archive.ics.uci.edu/ml/datasets/wine)\n",
    "\n",
    "The data is the results of a chemical analysis of wines grown in the same region in Italy by three different cultivators. There are thirteen different measurements taken for different constituents found in the three types of wine.\n",
    "\n",
    "Attribute Information:\n",
    "\n",
    "    - Alcohol\n",
    "    - Malic acid\n",
    "    - Ash\n",
    "    - Alcalinity of ash\n",
    "    - Magnesium\n",
    "    - Total phenols\n",
    "    - Flavanoids\n",
    "    - Nonflavanoid phenols\n",
    "    - Proanthocyanins\n",
    "    - Color intensity\n",
    "    - Hue\n",
    "    - OD280/OD315 of diluted wines\n",
    "    - Proline\n",
    "\n",
    "All attributes are numerical. The are no missing values. \n",
    "\n",
    "The target/class is the 3 different types of wines. \n"
   ]
  },
  {
   "cell_type": "code",
   "execution_count": 1017,
   "metadata": {
    "tags": []
   },
   "outputs": [],
   "source": [
    "#import here all the libraries needed for this assignment\n",
    "import numpy as np\n",
    "import pandas as pd\n",
    "\n",
    "\n",
    "from sklearn import datasets\n",
    "\n",
    "from sklearn import metrics\n",
    "\n",
    "\n",
    "from sklearn.cluster import KMeans\n",
    "from sklearn_extra.cluster import KMedoids\n",
    "from sklearn.cluster import AgglomerativeClustering\n",
    "\n",
    "from sklearn.decomposition import PCA\n",
    "from sklearn.preprocessing import StandardScaler\n",
    "\n",
    "import matplotlib.pyplot as plt\n",
    "import seaborn as sns\n",
    "RSEED = 2"
   ]
  },
  {
   "cell_type": "markdown",
   "metadata": {},
   "source": [
    "## 1. Euclidean-Manhattan"
   ]
  },
  {
   "cell_type": "markdown",
   "metadata": {},
   "source": [
    "### `Task:`\n",
    "\n",
    "###  `In the function named calculate_distances: `\n",
    "###  `- compute the Euclidean distance between any two given vectors (numpy arrays)`\n",
    "\n",
    "The euclidean distance:\n",
    "$d_e = \\sqrt{\\sum_{i=1}^{n}({a_i-b_i})^2}$\n",
    "\n",
    "###  `- compute the Manhattan distance between any two given vectors (numpy arrays)`\n",
    "\n",
    "The manhattan distance: \n",
    "$d_m = \\sum_{i=1}^{n}{\\lvert a_i-b_i \\rvert}$ \n",
    "\n",
    "**Important**: You should implement this yourself from scratch (you could use numpy). If you call a method to calculate the distances the task will get no points. \n"
   ]
  },
  {
   "cell_type": "code",
   "execution_count": 1018,
   "metadata": {},
   "outputs": [],
   "source": [
    "def calculate_distances(vector1, vector2, name_of_distance_metric):\n",
    "\n",
    "    \"\"\"\n",
    "    Input:\n",
    "            vector1: numpy array \n",
    "            vector2: numpy array \n",
    "            name_of_distance_metric: string taking values: 'euclidean' or 'manhattan'\n",
    "          \n",
    "    Output:\n",
    "            distance: the value of the distance that you calculated\n",
    "    \n",
    "\n",
    "    step 1: if the name of the distance metric is \"euclidean\" then store in the output variable the result of the euclidean distance between vector1 and vector2\n",
    "    step 2: if the name of the distance metric is \"manhattan\" then store in the output variable the result of the manhattan distance between vector1 and vector2\n",
    "        \n",
    "    Note: implement this yourself from scratch! if you want to make sure that the calculations are correct, cross check it by calculating the manhattan/euclidean distances by\n",
    "    hand or by calling a method that does these calculations, to see what's the correct result. Of course you should not include these checks in the function but your from-scratch implementation!\n",
    "    \"\"\"\n",
    "    distance = 0\n",
    "    if name_of_distance_metric == \"euclidean\":\n",
    "        sum_of_squared_difference = 0\n",
    "        for idx, _ in enumerate(vector1):\n",
    "            sum_of_squared_difference += ((vector1[idx] - vector2[idx])**2)\n",
    "        distance = math.sqrt(sum_of_squared_difference)\n",
    "\n",
    "    if name_of_distance_metric == \"manhattan\":\n",
    "        sum_of_absolute_difference = 0\n",
    "        for idx, _ in enumerate(vector1):\n",
    "            sum_of_absolute_difference += (abs(vector1[idx] - vector2[idx]))\n",
    "        distance = sum_of_absolute_difference\n",
    "    return distance"
   ]
  },
  {
   "cell_type": "code",
   "execution_count": 1019,
   "metadata": {
    "tags": []
   },
   "outputs": [],
   "source": [
    "# test your function here using these two arrays (do not change them!).\n",
    "# do not delete this!\n",
    "v1 = np.array((1, 2, 3, 4, 5))\n",
    "v2 = np.array((7, 8, 9, 4, 2))\n",
    "euclidean = calculate_distances(v1,v2, \"euclidean\")\n",
    "manhattan = calculate_distances(v1,v2, \"manhattan\")"
   ]
  },
  {
   "cell_type": "code",
   "execution_count": 1020,
   "metadata": {},
   "outputs": [
    {
     "data": {
      "text/plain": [
       "21"
      ]
     },
     "execution_count": 1020,
     "metadata": {},
     "output_type": "execute_result"
    }
   ],
   "source": [
    "# do not delete this!\n",
    "manhattan"
   ]
  },
  {
   "cell_type": "code",
   "execution_count": 1021,
   "metadata": {},
   "outputs": [
    {
     "data": {
      "text/plain": [
       "10.816653826391969"
      ]
     },
     "execution_count": 1021,
     "metadata": {},
     "output_type": "execute_result"
    }
   ],
   "source": [
    "# do not delete this!\n",
    "euclidean"
   ]
  },
  {
   "cell_type": "markdown",
   "metadata": {},
   "source": [
    "## 2. Purity\n"
   ]
  },
  {
   "cell_type": "markdown",
   "metadata": {},
   "source": [
    "### `Task:  In the function named purity calculate the purity metric for any given clustering result. `\n",
    "\n",
    "Read more about purity [here](https://nlp.stanford.edu/IR-book/html/htmledition/evaluation-of-clustering-1.html)\n",
    "\n",
    "\n",
    "You will use the purity function later on the evaluation of the clustering results of the wine dataset."
   ]
  },
  {
   "cell_type": "markdown",
   "metadata": {},
   "source": [
    "Hints:\n",
    "\n",
    "To calculate Purity first create a contigency matrix (you can call the sklearn's version of the contigency matrix [link](https://scikit-learn.org/stable/modules/generated/sklearn.metrics.cluster.contingency_matrix.html#sklearn.metrics.cluster.contingency_matrix)).\n"
   ]
  },
  {
   "cell_type": "code",
   "execution_count": 1022,
   "metadata": {},
   "outputs": [
    {
     "data": {
      "text/plain": [
       "array([[0, 3],\n",
       "       [1, 1]])"
      ]
     },
     "execution_count": 1022,
     "metadata": {},
     "output_type": "execute_result"
    }
   ],
   "source": [
    "# This is an example of how a contigency matrix works:\n",
    "# suppose that this array holds your ground truth labels\n",
    "true = ['a', 'b', 'a', 'b', 'a'] # so we have two groupings that belong to 'a' and 'b'. Sample 0 belongs to group 'a', sample 1 belongs to group 'b' and so on.\n",
    "# suppose that we did some clustering and that this array holds your predicted labels from a clustering algo\n",
    "predicted = [1, 1, 1, 0, 1] # so samples 0 to 2 and sample 4 belong to cluster 1, sample 3 to cluster 0 according to some clustering algorithm\n",
    "\n",
    "# let's calculate the contigency matrix for the above\n",
    "metrics.cluster.contingency_matrix(['a', 'b', 'a', 'b', 'a'], [1, 1, 1, 0, 1])\n",
    "\n",
    "# The first row of output array indicates that there are 3 samples whose true cluster is “a”.\n",
    "# Of them, None are predicted in cluster 0, and 3 are predicted in cluster 1.\n",
    "# And the second row indicates that there are 2 samples whose true cluster is “b”. Of them, 1 is predicted in cluster 0, and 1 is predicted in cluster 1.\n",
    "# If you'd like you could use the result of the contigency matrix to calculate purity! check the link above or the lecture material to see how purity is calculated"
   ]
  },
  {
   "cell_type": "code",
   "execution_count": 1023,
   "metadata": {},
   "outputs": [],
   "source": [
    "def purity(y_true, y_pred):\n",
    "\n",
    "    \"\"\"\n",
    "    Input:\n",
    "        y_true: numpy array, the true labels of your dataset\n",
    "        y_pred: numpy array, the labels predicted by the algorithm\n",
    "    Output:\n",
    "        purity: the resulting value for purity\n",
    "\n",
    "\n",
    "    step 1: create the contigency matrix for the true and predicted labels\n",
    "    step 2: find the max value of correctly assigned samples in the cluster (each cluster is assigned to the class which is most frequent in the cluster)\n",
    "    step 3: sum the correcly assigned samples and divide by the sum of points in the contigency matrix\n",
    "    \"\"\"\n",
    "    contingency_matrix = metrics.cluster.contingency_matrix(labels_true=y_true, labels_pred=y_pred)\n",
    "    max_correctly_assigned_values = np.amax(contingency_matrix, axis=0)\n",
    "    purity = np.sum(max_correctly_assigned_values/np.sum(contingency_matrix))\n",
    "\n",
    "    return purity"
   ]
  },
  {
   "cell_type": "code",
   "execution_count": 1024,
   "metadata": {
    "tags": []
   },
   "outputs": [
    {
     "data": {
      "text/plain": [
       "0.8181818181818181"
      ]
     },
     "execution_count": 1024,
     "metadata": {},
     "output_type": "execute_result"
    }
   ],
   "source": [
    "# test your function here using these two arrays (do not change them!).\n",
    "# do not delete this!\n",
    "ground_truth = pd.Series([1,1,2,1,2,1,0,1,1,0,0])\n",
    "predicted_labels = pd.Series([1,0,2,1,2,1,0,1,1,2,0])\n",
    "\n",
    "purity(ground_truth, predicted_labels)"
   ]
  },
  {
   "cell_type": "markdown",
   "metadata": {},
   "source": [
    "## 3. Read and preprocess the wine dataset"
   ]
  },
  {
   "cell_type": "code",
   "execution_count": 1025,
   "metadata": {},
   "outputs": [
    {
     "data": {
      "text/html": [
       "<div>\n",
       "<style scoped>\n",
       "    .dataframe tbody tr th:only-of-type {\n",
       "        vertical-align: middle;\n",
       "    }\n",
       "\n",
       "    .dataframe tbody tr th {\n",
       "        vertical-align: top;\n",
       "    }\n",
       "\n",
       "    .dataframe thead th {\n",
       "        text-align: right;\n",
       "    }\n",
       "</style>\n",
       "<table border=\"1\" class=\"dataframe\">\n",
       "  <thead>\n",
       "    <tr style=\"text-align: right;\">\n",
       "      <th></th>\n",
       "      <th>alcohol</th>\n",
       "      <th>malic_acid</th>\n",
       "      <th>ash</th>\n",
       "      <th>alcalinity_of_ash</th>\n",
       "      <th>magnesium</th>\n",
       "      <th>total_phenols</th>\n",
       "      <th>flavanoids</th>\n",
       "      <th>nonflavanoid_phenols</th>\n",
       "      <th>proanthocyanins</th>\n",
       "      <th>color_intensity</th>\n",
       "      <th>hue</th>\n",
       "      <th>od280/od315_of_diluted_wines</th>\n",
       "      <th>proline</th>\n",
       "      <th>class</th>\n",
       "    </tr>\n",
       "  </thead>\n",
       "  <tbody>\n",
       "    <tr>\n",
       "      <th>0</th>\n",
       "      <td>14.23</td>\n",
       "      <td>1.71</td>\n",
       "      <td>2.43</td>\n",
       "      <td>15.6</td>\n",
       "      <td>127.0</td>\n",
       "      <td>2.80</td>\n",
       "      <td>3.06</td>\n",
       "      <td>0.28</td>\n",
       "      <td>2.29</td>\n",
       "      <td>5.64</td>\n",
       "      <td>1.04</td>\n",
       "      <td>3.92</td>\n",
       "      <td>1065.0</td>\n",
       "      <td>0</td>\n",
       "    </tr>\n",
       "    <tr>\n",
       "      <th>1</th>\n",
       "      <td>13.20</td>\n",
       "      <td>1.78</td>\n",
       "      <td>2.14</td>\n",
       "      <td>11.2</td>\n",
       "      <td>100.0</td>\n",
       "      <td>2.65</td>\n",
       "      <td>2.76</td>\n",
       "      <td>0.26</td>\n",
       "      <td>1.28</td>\n",
       "      <td>4.38</td>\n",
       "      <td>1.05</td>\n",
       "      <td>3.40</td>\n",
       "      <td>1050.0</td>\n",
       "      <td>0</td>\n",
       "    </tr>\n",
       "    <tr>\n",
       "      <th>2</th>\n",
       "      <td>13.16</td>\n",
       "      <td>2.36</td>\n",
       "      <td>2.67</td>\n",
       "      <td>18.6</td>\n",
       "      <td>101.0</td>\n",
       "      <td>2.80</td>\n",
       "      <td>3.24</td>\n",
       "      <td>0.30</td>\n",
       "      <td>2.81</td>\n",
       "      <td>5.68</td>\n",
       "      <td>1.03</td>\n",
       "      <td>3.17</td>\n",
       "      <td>1185.0</td>\n",
       "      <td>0</td>\n",
       "    </tr>\n",
       "    <tr>\n",
       "      <th>3</th>\n",
       "      <td>14.37</td>\n",
       "      <td>1.95</td>\n",
       "      <td>2.50</td>\n",
       "      <td>16.8</td>\n",
       "      <td>113.0</td>\n",
       "      <td>3.85</td>\n",
       "      <td>3.49</td>\n",
       "      <td>0.24</td>\n",
       "      <td>2.18</td>\n",
       "      <td>7.80</td>\n",
       "      <td>0.86</td>\n",
       "      <td>3.45</td>\n",
       "      <td>1480.0</td>\n",
       "      <td>0</td>\n",
       "    </tr>\n",
       "    <tr>\n",
       "      <th>4</th>\n",
       "      <td>13.24</td>\n",
       "      <td>2.59</td>\n",
       "      <td>2.87</td>\n",
       "      <td>21.0</td>\n",
       "      <td>118.0</td>\n",
       "      <td>2.80</td>\n",
       "      <td>2.69</td>\n",
       "      <td>0.39</td>\n",
       "      <td>1.82</td>\n",
       "      <td>4.32</td>\n",
       "      <td>1.04</td>\n",
       "      <td>2.93</td>\n",
       "      <td>735.0</td>\n",
       "      <td>0</td>\n",
       "    </tr>\n",
       "  </tbody>\n",
       "</table>\n",
       "</div>"
      ],
      "text/plain": [
       "   alcohol  malic_acid   ash  alcalinity_of_ash  magnesium  total_phenols  \\\n",
       "0    14.23        1.71  2.43               15.6      127.0           2.80   \n",
       "1    13.20        1.78  2.14               11.2      100.0           2.65   \n",
       "2    13.16        2.36  2.67               18.6      101.0           2.80   \n",
       "3    14.37        1.95  2.50               16.8      113.0           3.85   \n",
       "4    13.24        2.59  2.87               21.0      118.0           2.80   \n",
       "\n",
       "   flavanoids  nonflavanoid_phenols  proanthocyanins  color_intensity   hue  \\\n",
       "0        3.06                  0.28             2.29             5.64  1.04   \n",
       "1        2.76                  0.26             1.28             4.38  1.05   \n",
       "2        3.24                  0.30             2.81             5.68  1.03   \n",
       "3        3.49                  0.24             2.18             7.80  0.86   \n",
       "4        2.69                  0.39             1.82             4.32  1.04   \n",
       "\n",
       "   od280/od315_of_diluted_wines  proline  class  \n",
       "0                          3.92   1065.0      0  \n",
       "1                          3.40   1050.0      0  \n",
       "2                          3.17   1185.0      0  \n",
       "3                          3.45   1480.0      0  \n",
       "4                          2.93    735.0      0  "
      ]
     },
     "execution_count": 1025,
     "metadata": {},
     "output_type": "execute_result"
    }
   ],
   "source": [
    "# loading the wine dataset from sklearn\n",
    "wine = datasets.load_wine()\n",
    "\n",
    "data = pd.DataFrame(wine.data, columns=wine.feature_names)\n",
    "\n",
    "# the column class is your target/class. The seperation of samples to the 3 different wine cultivators\n",
    "data['class'] = wine.target\n",
    "data.head()"
   ]
  },
  {
   "cell_type": "code",
   "execution_count": 1026,
   "metadata": {},
   "outputs": [
    {
     "name": "stdout",
     "output_type": "stream",
     "text": [
      "<class 'pandas.core.frame.DataFrame'>\n",
      "RangeIndex: 178 entries, 0 to 177\n",
      "Data columns (total 14 columns):\n",
      " #   Column                        Non-Null Count  Dtype  \n",
      "---  ------                        --------------  -----  \n",
      " 0   alcohol                       178 non-null    float64\n",
      " 1   malic_acid                    178 non-null    float64\n",
      " 2   ash                           178 non-null    float64\n",
      " 3   alcalinity_of_ash             178 non-null    float64\n",
      " 4   magnesium                     178 non-null    float64\n",
      " 5   total_phenols                 178 non-null    float64\n",
      " 6   flavanoids                    178 non-null    float64\n",
      " 7   nonflavanoid_phenols          178 non-null    float64\n",
      " 8   proanthocyanins               178 non-null    float64\n",
      " 9   color_intensity               178 non-null    float64\n",
      " 10  hue                           178 non-null    float64\n",
      " 11  od280/od315_of_diluted_wines  178 non-null    float64\n",
      " 12  proline                       178 non-null    float64\n",
      " 13  class                         178 non-null    int64  \n",
      "dtypes: float64(13), int64(1)\n",
      "memory usage: 19.6 KB\n"
     ]
    }
   ],
   "source": [
    "# if you want to see information about the dataset\n",
    "data.info()"
   ]
  },
  {
   "cell_type": "code",
   "execution_count": 1027,
   "metadata": {},
   "outputs": [
    {
     "data": {
      "text/html": [
       "<div>\n",
       "<style scoped>\n",
       "    .dataframe tbody tr th:only-of-type {\n",
       "        vertical-align: middle;\n",
       "    }\n",
       "\n",
       "    .dataframe tbody tr th {\n",
       "        vertical-align: top;\n",
       "    }\n",
       "\n",
       "    .dataframe thead th {\n",
       "        text-align: right;\n",
       "    }\n",
       "</style>\n",
       "<table border=\"1\" class=\"dataframe\">\n",
       "  <thead>\n",
       "    <tr style=\"text-align: right;\">\n",
       "      <th></th>\n",
       "      <th>alcohol</th>\n",
       "      <th>malic_acid</th>\n",
       "      <th>ash</th>\n",
       "      <th>alcalinity_of_ash</th>\n",
       "      <th>magnesium</th>\n",
       "      <th>total_phenols</th>\n",
       "      <th>flavanoids</th>\n",
       "      <th>nonflavanoid_phenols</th>\n",
       "      <th>proanthocyanins</th>\n",
       "      <th>color_intensity</th>\n",
       "      <th>hue</th>\n",
       "      <th>od280/od315_of_diluted_wines</th>\n",
       "      <th>proline</th>\n",
       "    </tr>\n",
       "  </thead>\n",
       "  <tbody>\n",
       "    <tr>\n",
       "      <th>count</th>\n",
       "      <td>178.000000</td>\n",
       "      <td>178.000000</td>\n",
       "      <td>178.000000</td>\n",
       "      <td>178.000000</td>\n",
       "      <td>178.000000</td>\n",
       "      <td>178.000000</td>\n",
       "      <td>178.000000</td>\n",
       "      <td>178.000000</td>\n",
       "      <td>178.000000</td>\n",
       "      <td>178.000000</td>\n",
       "      <td>178.000000</td>\n",
       "      <td>178.000000</td>\n",
       "      <td>178.000000</td>\n",
       "    </tr>\n",
       "    <tr>\n",
       "      <th>mean</th>\n",
       "      <td>13.000618</td>\n",
       "      <td>2.336348</td>\n",
       "      <td>2.366517</td>\n",
       "      <td>19.494944</td>\n",
       "      <td>99.741573</td>\n",
       "      <td>2.295112</td>\n",
       "      <td>2.029270</td>\n",
       "      <td>0.361854</td>\n",
       "      <td>1.590899</td>\n",
       "      <td>5.058090</td>\n",
       "      <td>0.957449</td>\n",
       "      <td>2.611685</td>\n",
       "      <td>746.893258</td>\n",
       "    </tr>\n",
       "    <tr>\n",
       "      <th>std</th>\n",
       "      <td>0.811827</td>\n",
       "      <td>1.117146</td>\n",
       "      <td>0.274344</td>\n",
       "      <td>3.339564</td>\n",
       "      <td>14.282484</td>\n",
       "      <td>0.625851</td>\n",
       "      <td>0.998859</td>\n",
       "      <td>0.124453</td>\n",
       "      <td>0.572359</td>\n",
       "      <td>2.318286</td>\n",
       "      <td>0.228572</td>\n",
       "      <td>0.709990</td>\n",
       "      <td>314.907474</td>\n",
       "    </tr>\n",
       "    <tr>\n",
       "      <th>min</th>\n",
       "      <td>11.030000</td>\n",
       "      <td>0.740000</td>\n",
       "      <td>1.360000</td>\n",
       "      <td>10.600000</td>\n",
       "      <td>70.000000</td>\n",
       "      <td>0.980000</td>\n",
       "      <td>0.340000</td>\n",
       "      <td>0.130000</td>\n",
       "      <td>0.410000</td>\n",
       "      <td>1.280000</td>\n",
       "      <td>0.480000</td>\n",
       "      <td>1.270000</td>\n",
       "      <td>278.000000</td>\n",
       "    </tr>\n",
       "    <tr>\n",
       "      <th>25%</th>\n",
       "      <td>12.362500</td>\n",
       "      <td>1.602500</td>\n",
       "      <td>2.210000</td>\n",
       "      <td>17.200000</td>\n",
       "      <td>88.000000</td>\n",
       "      <td>1.742500</td>\n",
       "      <td>1.205000</td>\n",
       "      <td>0.270000</td>\n",
       "      <td>1.250000</td>\n",
       "      <td>3.220000</td>\n",
       "      <td>0.782500</td>\n",
       "      <td>1.937500</td>\n",
       "      <td>500.500000</td>\n",
       "    </tr>\n",
       "    <tr>\n",
       "      <th>50%</th>\n",
       "      <td>13.050000</td>\n",
       "      <td>1.865000</td>\n",
       "      <td>2.360000</td>\n",
       "      <td>19.500000</td>\n",
       "      <td>98.000000</td>\n",
       "      <td>2.355000</td>\n",
       "      <td>2.135000</td>\n",
       "      <td>0.340000</td>\n",
       "      <td>1.555000</td>\n",
       "      <td>4.690000</td>\n",
       "      <td>0.965000</td>\n",
       "      <td>2.780000</td>\n",
       "      <td>673.500000</td>\n",
       "    </tr>\n",
       "    <tr>\n",
       "      <th>75%</th>\n",
       "      <td>13.677500</td>\n",
       "      <td>3.082500</td>\n",
       "      <td>2.557500</td>\n",
       "      <td>21.500000</td>\n",
       "      <td>107.000000</td>\n",
       "      <td>2.800000</td>\n",
       "      <td>2.875000</td>\n",
       "      <td>0.437500</td>\n",
       "      <td>1.950000</td>\n",
       "      <td>6.200000</td>\n",
       "      <td>1.120000</td>\n",
       "      <td>3.170000</td>\n",
       "      <td>985.000000</td>\n",
       "    </tr>\n",
       "    <tr>\n",
       "      <th>max</th>\n",
       "      <td>14.830000</td>\n",
       "      <td>5.800000</td>\n",
       "      <td>3.230000</td>\n",
       "      <td>30.000000</td>\n",
       "      <td>162.000000</td>\n",
       "      <td>3.880000</td>\n",
       "      <td>5.080000</td>\n",
       "      <td>0.660000</td>\n",
       "      <td>3.580000</td>\n",
       "      <td>13.000000</td>\n",
       "      <td>1.710000</td>\n",
       "      <td>4.000000</td>\n",
       "      <td>1680.000000</td>\n",
       "    </tr>\n",
       "  </tbody>\n",
       "</table>\n",
       "</div>"
      ],
      "text/plain": [
       "          alcohol  malic_acid         ash  alcalinity_of_ash   magnesium  \\\n",
       "count  178.000000  178.000000  178.000000         178.000000  178.000000   \n",
       "mean    13.000618    2.336348    2.366517          19.494944   99.741573   \n",
       "std      0.811827    1.117146    0.274344           3.339564   14.282484   \n",
       "min     11.030000    0.740000    1.360000          10.600000   70.000000   \n",
       "25%     12.362500    1.602500    2.210000          17.200000   88.000000   \n",
       "50%     13.050000    1.865000    2.360000          19.500000   98.000000   \n",
       "75%     13.677500    3.082500    2.557500          21.500000  107.000000   \n",
       "max     14.830000    5.800000    3.230000          30.000000  162.000000   \n",
       "\n",
       "       total_phenols  flavanoids  nonflavanoid_phenols  proanthocyanins  \\\n",
       "count     178.000000  178.000000            178.000000       178.000000   \n",
       "mean        2.295112    2.029270              0.361854         1.590899   \n",
       "std         0.625851    0.998859              0.124453         0.572359   \n",
       "min         0.980000    0.340000              0.130000         0.410000   \n",
       "25%         1.742500    1.205000              0.270000         1.250000   \n",
       "50%         2.355000    2.135000              0.340000         1.555000   \n",
       "75%         2.800000    2.875000              0.437500         1.950000   \n",
       "max         3.880000    5.080000              0.660000         3.580000   \n",
       "\n",
       "       color_intensity         hue  od280/od315_of_diluted_wines      proline  \n",
       "count       178.000000  178.000000                    178.000000   178.000000  \n",
       "mean          5.058090    0.957449                      2.611685   746.893258  \n",
       "std           2.318286    0.228572                      0.709990   314.907474  \n",
       "min           1.280000    0.480000                      1.270000   278.000000  \n",
       "25%           3.220000    0.782500                      1.937500   500.500000  \n",
       "50%           4.690000    0.965000                      2.780000   673.500000  \n",
       "75%           6.200000    1.120000                      3.170000   985.000000  \n",
       "max          13.000000    1.710000                      4.000000  1680.000000  "
      ]
     },
     "execution_count": 1027,
     "metadata": {},
     "output_type": "execute_result"
    }
   ],
   "source": [
    "data.iloc[:,:-1].describe()"
   ]
  },
  {
   "cell_type": "markdown",
   "metadata": {},
   "source": [
    "### `Task: Standardize all the numerical features. You can use the StandardScaler from sklearn`\n",
    "**Important**: Remember that the class/target should not be standardized!"
   ]
  },
  {
   "cell_type": "code",
   "execution_count": 1028,
   "metadata": {},
   "outputs": [],
   "source": [
    "\"\"\"\n",
    "Step 1: Initialize a StandardScaler object\n",
    "Step 2: fit_transform the values of the numerical features (not the class!)\n",
    "Step 3: Transform the standardized returned array into a dataframe called **data_standardized** with the corresponding column names\n",
    "\"\"\"\n",
    "columns_without_class = data.columns[:-1]\n",
    "data_without_class = data[columns_without_class]\n",
    "\n",
    "data_standardized = pd.DataFrame(data_without_class, columns=columns_without_class)\n",
    "\n",
    "scaled_data = StandardScaler().fit_transform(data_standardized)\n",
    "\n",
    "data_standardized = pd.DataFrame(scaled_data, columns=columns_without_class)"
   ]
  },
  {
   "cell_type": "code",
   "execution_count": 1029,
   "metadata": {},
   "outputs": [
    {
     "data": {
      "text/html": [
       "<div>\n",
       "<style scoped>\n",
       "    .dataframe tbody tr th:only-of-type {\n",
       "        vertical-align: middle;\n",
       "    }\n",
       "\n",
       "    .dataframe tbody tr th {\n",
       "        vertical-align: top;\n",
       "    }\n",
       "\n",
       "    .dataframe thead th {\n",
       "        text-align: right;\n",
       "    }\n",
       "</style>\n",
       "<table border=\"1\" class=\"dataframe\">\n",
       "  <thead>\n",
       "    <tr style=\"text-align: right;\">\n",
       "      <th></th>\n",
       "      <th>alcohol</th>\n",
       "      <th>malic_acid</th>\n",
       "      <th>ash</th>\n",
       "      <th>alcalinity_of_ash</th>\n",
       "      <th>magnesium</th>\n",
       "      <th>total_phenols</th>\n",
       "      <th>flavanoids</th>\n",
       "      <th>nonflavanoid_phenols</th>\n",
       "      <th>proanthocyanins</th>\n",
       "      <th>color_intensity</th>\n",
       "      <th>hue</th>\n",
       "      <th>od280/od315_of_diluted_wines</th>\n",
       "      <th>proline</th>\n",
       "    </tr>\n",
       "  </thead>\n",
       "  <tbody>\n",
       "    <tr>\n",
       "      <th>0</th>\n",
       "      <td>1.518613</td>\n",
       "      <td>-0.562250</td>\n",
       "      <td>0.232053</td>\n",
       "      <td>-1.169593</td>\n",
       "      <td>1.913905</td>\n",
       "      <td>0.808997</td>\n",
       "      <td>1.034819</td>\n",
       "      <td>-0.659563</td>\n",
       "      <td>1.224884</td>\n",
       "      <td>0.251717</td>\n",
       "      <td>0.362177</td>\n",
       "      <td>1.847920</td>\n",
       "      <td>1.013009</td>\n",
       "    </tr>\n",
       "    <tr>\n",
       "      <th>1</th>\n",
       "      <td>0.246290</td>\n",
       "      <td>-0.499413</td>\n",
       "      <td>-0.827996</td>\n",
       "      <td>-2.490847</td>\n",
       "      <td>0.018145</td>\n",
       "      <td>0.568648</td>\n",
       "      <td>0.733629</td>\n",
       "      <td>-0.820719</td>\n",
       "      <td>-0.544721</td>\n",
       "      <td>-0.293321</td>\n",
       "      <td>0.406051</td>\n",
       "      <td>1.113449</td>\n",
       "      <td>0.965242</td>\n",
       "    </tr>\n",
       "    <tr>\n",
       "      <th>2</th>\n",
       "      <td>0.196879</td>\n",
       "      <td>0.021231</td>\n",
       "      <td>1.109334</td>\n",
       "      <td>-0.268738</td>\n",
       "      <td>0.088358</td>\n",
       "      <td>0.808997</td>\n",
       "      <td>1.215533</td>\n",
       "      <td>-0.498407</td>\n",
       "      <td>2.135968</td>\n",
       "      <td>0.269020</td>\n",
       "      <td>0.318304</td>\n",
       "      <td>0.788587</td>\n",
       "      <td>1.395148</td>\n",
       "    </tr>\n",
       "    <tr>\n",
       "      <th>3</th>\n",
       "      <td>1.691550</td>\n",
       "      <td>-0.346811</td>\n",
       "      <td>0.487926</td>\n",
       "      <td>-0.809251</td>\n",
       "      <td>0.930918</td>\n",
       "      <td>2.491446</td>\n",
       "      <td>1.466525</td>\n",
       "      <td>-0.981875</td>\n",
       "      <td>1.032155</td>\n",
       "      <td>1.186068</td>\n",
       "      <td>-0.427544</td>\n",
       "      <td>1.184071</td>\n",
       "      <td>2.334574</td>\n",
       "    </tr>\n",
       "    <tr>\n",
       "      <th>4</th>\n",
       "      <td>0.295700</td>\n",
       "      <td>0.227694</td>\n",
       "      <td>1.840403</td>\n",
       "      <td>0.451946</td>\n",
       "      <td>1.281985</td>\n",
       "      <td>0.808997</td>\n",
       "      <td>0.663351</td>\n",
       "      <td>0.226796</td>\n",
       "      <td>0.401404</td>\n",
       "      <td>-0.319276</td>\n",
       "      <td>0.362177</td>\n",
       "      <td>0.449601</td>\n",
       "      <td>-0.037874</td>\n",
       "    </tr>\n",
       "  </tbody>\n",
       "</table>\n",
       "</div>"
      ],
      "text/plain": [
       "    alcohol  malic_acid       ash  alcalinity_of_ash  magnesium  \\\n",
       "0  1.518613   -0.562250  0.232053          -1.169593   1.913905   \n",
       "1  0.246290   -0.499413 -0.827996          -2.490847   0.018145   \n",
       "2  0.196879    0.021231  1.109334          -0.268738   0.088358   \n",
       "3  1.691550   -0.346811  0.487926          -0.809251   0.930918   \n",
       "4  0.295700    0.227694  1.840403           0.451946   1.281985   \n",
       "\n",
       "   total_phenols  flavanoids  nonflavanoid_phenols  proanthocyanins  \\\n",
       "0       0.808997    1.034819             -0.659563         1.224884   \n",
       "1       0.568648    0.733629             -0.820719        -0.544721   \n",
       "2       0.808997    1.215533             -0.498407         2.135968   \n",
       "3       2.491446    1.466525             -0.981875         1.032155   \n",
       "4       0.808997    0.663351              0.226796         0.401404   \n",
       "\n",
       "   color_intensity       hue  od280/od315_of_diluted_wines   proline  \n",
       "0         0.251717  0.362177                      1.847920  1.013009  \n",
       "1        -0.293321  0.406051                      1.113449  0.965242  \n",
       "2         0.269020  0.318304                      0.788587  1.395148  \n",
       "3         1.186068 -0.427544                      1.184071  2.334574  \n",
       "4        -0.319276  0.362177                      0.449601 -0.037874  "
      ]
     },
     "execution_count": 1029,
     "metadata": {},
     "output_type": "execute_result"
    }
   ],
   "source": [
    "# do not delete this cell!\n",
    "data_standardized.head(5)"
   ]
  },
  {
   "cell_type": "markdown",
   "metadata": {},
   "source": [
    "## 4. Elbow Method\n",
    "\n",
    "In cluster analysis, the elbow method is a heuristic used in determining the number of clusters in a data set. The elbow method plots the value of the cost function (inertia) produced by different values for the number of clusters. The elbow of the curve indicates the point that we should stop dividing the data into further clusters.  \n"
   ]
  },
  {
   "cell_type": "markdown",
   "metadata": {},
   "source": [
    "### `Task:` \n",
    "\n",
    "`In the function named elbow_method: - Implement the elbow method for Kmeans. - Plot the elbow`\n",
    "\n",
    "`Following that:- store in the variable called number_of_clusters the best number of clusters according to the elbow method for Kmeans`\n",
    "\n",
    "About the elbow plot:\n",
    "\n",
    "* x-axis: the number of clusters\n",
    "\n",
    "* y-axis: inertia/distortion\n"
   ]
  },
  {
   "cell_type": "code",
   "execution_count": 1030,
   "metadata": {},
   "outputs": [],
   "source": [
    "def elbow_method(X, max_range_for_elbow, rseed = RSEED):\n",
    "    \"\"\"\n",
    "    Input: \n",
    "        X: dataframe or numpy array, the dataset to be clustered, \n",
    "        max_range_for_elbow: int, the max number of clusters you want the elbow method to run. \n",
    "\n",
    "    **1st way**:\n",
    "    step1: \n",
    "        create an empty list where you will store the inertia \n",
    "    step2:\n",
    "        Create a sequence of numbers from 1 to max_range_for_elbow and store in a variable called K, these will be your sequence of numbers for the various numbers of clusters\n",
    "    step3: \n",
    "        in a for loop that goes through the values of K one by one, run Kmeans for each of these values in the range with random_state=RSTATE\n",
    "    step4: \n",
    "        inside the for loop, calculate the inertia for the clustering that you currently ran and append in the list from step 1. \n",
    "        The inertia is an attribute of the Kmeans object\n",
    "    step5: \n",
    "        Outside the for loop, plot the resulting elbow, in x-axis: K (sequence of numbers from 1 to max_range_for_elbow+1) and in y-axis: the inertia for the respective values of K\n",
    "\n",
    "    **2nd way**:\n",
    "        Another way to implement the elbow method is to use the KElbowVisualizer from yellowbricks! \n",
    "        This link will help you get an insight on how you could use it: https://www.scikit-yb.org/en/latest/api/cluster/elbow.html\n",
    "    \n",
    "    **Note**\n",
    "        The above steps/different ways of implementing the elbow method are just indicative. Please implement this as you want as long as you plot the required elbow plot and\n",
    "        store in the variable called number_of_clusters the best number of clusters according to the elbow method for Kmeans.\n",
    "\n",
    "    \"\"\"\n",
    "    inertia_values = []\n",
    "    for k in range(1,max_range_for_elbow):\n",
    "        km = KMeans(n_clusters=k, random_state=rseed)\n",
    "        km = km.fit(X)\n",
    "        inertia_values.append(km.inertia_)\n",
    "\n",
    "    fig, ax = plt.subplots(figsize=(8, 6))\n",
    "    plt.plot(range(1,max_range_for_elbow), inertia_values)\n",
    "    plt.xlabel('No. of Clusters', fontsize=15)\n",
    "    plt.ylabel('Inertia', fontsize=15)\n",
    "    plt.title('Inertia vs No. Of Clusters', fontsize=15)"
   ]
  },
  {
   "cell_type": "code",
   "execution_count": 1031,
   "metadata": {},
   "outputs": [
    {
     "data": {
      "image/png": "[encoded data removed]",
      "text/plain": [
       "<Figure size 576x432 with 1 Axes>"
      ]
     },
     "metadata": {
      "needs_background": "light"
     },
     "output_type": "display_data"
    }
   ],
   "source": [
    "# do not delete this!\n",
    "# calling the elbow method here\n",
    "elbow_method(data_standardized,10)"
   ]
  },
  {
   "cell_type": "code",
   "execution_count": 1032,
   "metadata": {},
   "outputs": [],
   "source": [
    "# What is the best number of clusters according to the elbow method for Kmeans? Find the elbow!\n",
    "# store the result here and use it for the rest of the assignment as input to the algorithms\n",
    "# do not delete this!\n",
    "\n",
    "number_of_clusters = 3"
   ]
  },
  {
   "cell_type": "markdown",
   "metadata": {},
   "source": [
    "##  5. Run K-means, K-medoids and Agglomerative Clustering on the wine dataset\n",
    "\n",
    "\n",
    "### `Task: Run K-means, K-medoids, Agglomerative with ward distance, Agglomerative with complete distance (use sklearn, scikit-learn-extra) and store the clustering labels in the variables indicated below for the respective algorithms. If you would like some help for this part you could either check the sklearn user-guide for the algorithms asked or check the examples of lab2.`\n"
   ]
  },
  {
   "cell_type": "code",
   "execution_count": 1033,
   "metadata": {},
   "outputs": [],
   "source": [
    "# run k-means (from sklearn) with the optimal number of clusters that you found above, and random_state=RSEED   \n",
    "# store the cluster memberships in kmeans_labels \n",
    "\n",
    "kmn = KMeans(n_clusters=number_of_clusters, random_state=RSEED)\n",
    "kmn.fit_predict(X=data_standardized)\n",
    "kmeans_labels = kmn.labels_"
   ]
  },
  {
   "cell_type": "code",
   "execution_count": 1034,
   "metadata": {},
   "outputs": [],
   "source": [
    "# do not delete this!\n",
    "labels_dict = {}\n",
    "\n",
    "labels_dict[\"kmeans\"] = kmeans_labels"
   ]
  },
  {
   "cell_type": "code",
   "execution_count": 1035,
   "metadata": {},
   "outputs": [],
   "source": [
    "# run k-medoids (from scikit-learn-extra) with the optimal number of clusters that you found above, and random_state=RSEED   \n",
    "# store the cluster memberships in kmedoids_labels\n",
    "k_mediods = KMedoids(n_clusters=number_of_clusters, random_state=RSEED)\n",
    "k_mediods.fit_predict(X=data_standardized)\n",
    "\n",
    "kmedoids_labels = k_mediods.labels_\n"
   ]
  },
  {
   "cell_type": "code",
   "execution_count": 1036,
   "metadata": {},
   "outputs": [],
   "source": [
    "# do not delete this!\n",
    "\n",
    "labels_dict[\"kmedoids\"] = kmedoids_labels\n"
   ]
  },
  {
   "cell_type": "code",
   "execution_count": 1037,
   "metadata": {},
   "outputs": [],
   "source": [
    "# run Agglomerative clustering (from sklearn) with ward distance and the optimal number of clusters that you found above\n",
    "# store the cluster memberships in ward_labels \n",
    "\n",
    "agglomerate_ward = AgglomerativeClustering(n_clusters=number_of_clusters,linkage=\"ward\")\n",
    "agglomerate_ward.fit_predict(X=data_standardized)\n",
    "ward_labels = agglomerate_ward.labels_"
   ]
  },
  {
   "cell_type": "code",
   "execution_count": 1038,
   "metadata": {},
   "outputs": [],
   "source": [
    "# do not delete this!\n",
    "labels_dict[\"ward\"] = ward_labels\n"
   ]
  },
  {
   "cell_type": "code",
   "execution_count": 1039,
   "metadata": {},
   "outputs": [],
   "source": [
    "# run Agglomerative clustering (from sklearn) with complete distance and the optimal number of clusters that you found above\n",
    "# store the cluster memberships in complete_labels \n",
    "\n",
    "agglomerate_complete = AgglomerativeClustering(n_clusters=number_of_clusters, linkage=\"complete\")\n",
    "agglomerate_complete.fit_predict(X=data_standardized)\n",
    "complete_labels  = agglomerate_complete.labels_"
   ]
  },
  {
   "cell_type": "code",
   "execution_count": 1040,
   "metadata": {},
   "outputs": [],
   "source": [
    "# do not delete this!\n",
    "labels_dict[\"complete\"] = complete_labels"
   ]
  },
  {
   "cell_type": "markdown",
   "metadata": {},
   "source": [
    "## 6. Evaluation Metrics"
   ]
  },
  {
   "cell_type": "markdown",
   "metadata": {},
   "source": [
    "### `Task: Write a function that calculates the silhouette score (from sklearn) and the purity (use the function from task 2) for any given clustering.`\n",
    "\n",
    "Specifically:\n",
    "\n",
    "- calculate silhouette score for any given clustering with the given metric and rseed = RSEED in the function (use sklearn).\n",
    "- call the purity function that you defined above and calculate purity for any given clustering.\n",
    "- return the values for silhoutte score and purity in this order (s_s, pu).\n"
   ]
  },
  {
   "cell_type": "code",
   "execution_count": 1041,
   "metadata": {},
   "outputs": [],
   "source": [
    "def evaluation_metrics(X, labels_pred, labels_true,  metric, rseed = RSEED):\n",
    "    \"\"\"\n",
    "    Input: \n",
    "        X: array-like, the dataframe used for clustering\n",
    "        labels_pred: numpy array, the labels predicted by the algorithm\n",
    "        labels_true: numpy array, the target/class\n",
    "        metric: string, the metric to be used for silhouette score, example: 'euclidean'          \n",
    "\n",
    "    Output:\n",
    "        s_s: the value as calculated by silhouette\n",
    "        pu: the value as calculated by the purity function\n",
    "\n",
    "    # Note: if you could not implement purity in task 2, return the s_s value as calculated and pu=0\n",
    "    \n",
    "    \"\"\"\n",
    "\n",
    "    s_s = metrics.silhouette_score(X=X, labels=labels_pred, metric=metric, random_state=rseed)\n",
    "    pu = purity(y_true=labels_true, y_pred=labels_pred)\n",
    "\n",
    "    return s_s, pu"
   ]
  },
  {
   "cell_type": "code",
   "execution_count": 1042,
   "metadata": {},
   "outputs": [
    {
     "name": "stdout",
     "output_type": "stream",
     "text": [
      "Clustering Algorithm:  kmeans\n",
      "Silhouette Score:  0.285 Purity:  0.966\n",
      "Clustering Algorithm:  kmedoids\n",
      "Silhouette Score:  0.266 Purity:  0.904\n",
      "Clustering Algorithm:  ward\n",
      "Silhouette Score:  0.277 Purity:  0.927\n",
      "Clustering Algorithm:  complete\n",
      "Silhouette Score:  0.204 Purity:  0.837\n"
     ]
    }
   ],
   "source": [
    "# run this to check your evaluation metrics for all the clusterings that you ran in task 5.  \n",
    "# do not delete this!\n",
    "\n",
    "\n",
    "for keys, values in labels_dict.items():\n",
    "    print(\"Clustering Algorithm: \", keys)\n",
    "    s_s, pu = evaluation_metrics(data_standardized, values, wine.target, 'euclidean', rseed = RSEED)\n",
    "    if pu == None:\n",
    "        print(\"Silhouette Score: \", np.round(s_s, decimals=3) , \"Purity: \", pu)\n",
    "    else:\n",
    "        print(\"Silhouette Score: \", np.round(s_s, decimals=3) , \"Purity: \", np.round(pu, decimals=3))\n",
    "\n",
    "\n"
   ]
  },
  {
   "cell_type": "markdown",
   "metadata": {},
   "source": [
    "## 7. Plotting\n",
    "\n",
    "### `Task: Reduce the dimensionality of the dataset to 2 principal components. Create 1 figure with 5 plots where you will plot the 2 principal components with colors respective to the class (plot/column 1) and the clustering labels of the four algorithms (k-means, k-medoids, aggromerative with two different distances) that you ran in task 5 (plot/columns 2-5). `"
   ]
  },
  {
   "cell_type": "code",
   "execution_count": 1043,
   "metadata": {},
   "outputs": [
    {
     "data": {
      "text/plain": [
       "Text(0.5, 1.0, 'Agg. ward')"
      ]
     },
     "execution_count": 1043,
     "metadata": {},
     "output_type": "execute_result"
    },
    {
     "data": {
      "image/png": "[encoded data removed]",
      "text/plain": [
       "<Figure size 864x720 with 5 Axes>"
      ]
     },
     "metadata": {
      "needs_background": "light"
     },
     "output_type": "display_data"
    }
   ],
   "source": [
    "\"\"\"\n",
    "step 1: Reduce the dimensionality of the standardized dataset in 2 Principal Components, with Principal Component analysis.  store the reduced dataset in **pca_2d**\n",
    "step 2: Create a sublot object with 1 row and 5 columns\n",
    "step 3: Plot the two principal components (use a scatterplot) with colors respective to the true labels\n",
    "step 4-7: Plot the two principal components (use a scatterplot) with colors respective to the clustering labels of the algorithms that we ran above\n",
    "you can check Lab2-Unsuperised learning for a similar example\n",
    "don't forget to put the titles on the respective plots!\n",
    "\"\"\"\n",
    "\n",
    "#1\n",
    "pca_2d = PCA(n_components=2, random_state=RSEED).fit_transform(X=data_standardized)\n",
    "\n",
    "#2\n",
    "fig, axes = plt.subplots(nrows=1, ncols=5, figsize=(12, 10))\n",
    "sns.scatterplot(x=pca_2d[:, 0],y=pca_2d[:, 1], hue=wine.target, ax=axes[0])\n",
    "axes[0].set_title(\"Original\" )\n",
    "\n",
    "sns.scatterplot(x=pca_2d[:, 0],y=pca_2d[:, 1],hue=kmeans_labels, ax=axes[1])\n",
    "axes[1].set_title(\"Kmeans\")\n",
    "\n",
    "sns.scatterplot(x=pca_2d[:, 0],y=pca_2d[:, 1],hue=kmedoids_labels, ax=axes[2])\n",
    "axes[2].set_title(\"Kmedoids\")\n",
    "\n",
    "sns.scatterplot(x=pca_2d[:, 0],y=pca_2d[:, 1],hue=agglomerate_complete, ax=axes[3])\n",
    "axes[3].set_title(\"Agg. complete\")\n",
    "\n",
    "sns.scatterplot(x=pca_2d[:, 0],y=pca_2d[:, 1],hue=agglomerate_ward, ax=axes[4])\n",
    "axes[4].set_title(\"Agg. ward\")"
   ]
  },
  {
   "cell_type": "markdown",
   "metadata": {},
   "source": [
    "## 8. K-medians "
   ]
  },
  {
   "cell_type": "markdown",
   "metadata": {},
   "source": [
    "### `Task: In the function called Kmedians implement Kmedians.`\n",
    "\n",
    "Detailed instructions can be found inside the method. \n",
    "\n",
    "**K-medians:** Instead of taking the mean value of the object in a cluster as a reference point, medians are used (**L1-norm** as the distance measure)\n",
    "\n",
    "\n",
    "The K-medians clustering algorithm:\n",
    "\n",
    "\n",
    "-Select K points as the initial representative objects (choose the initial random points from the dataset samples)\n",
    "\n",
    "-Repeat\n",
    "\n",
    "* Assign every point to its nearest **median**\n",
    "\n",
    "* Re-compute the median of each individual feature\n",
    "    \n",
    "Until convergence is satisfied   \n"
   ]
  },
  {
   "cell_type": "code",
   "execution_count": 1044,
   "metadata": {},
   "outputs": [],
   "source": [
    "from  IPython.core.display import clear_output\n",
    "from sklearn.metrics.pairwise import manhattan_distances, pairwise_distances_argmin\n",
    "\n",
    "def Kmedians(X, n_clusters, rseed=RSEED):\n",
    "    \"\"\"\n",
    "    Input:\n",
    "        X: numpy array, the dataset to be clustered, \n",
    "        n_clusters: the number of clusters you want your algorithm to run with, \n",
    "        RSEED: the random seed\n",
    "    Output:\n",
    "        centers: numpy array, the cluster centers of the algorithm you are currently running, \n",
    "        labels: numpy array, the clustering labels\n",
    "\n",
    "    step 1: Generate a random number using np.random.RandomState and with the random seed provided in parameters\n",
    "    step 2: Get the n_clusters first elements from a randomly permulated sequence with the length equal to the number of rows in X using the random number from step 1\n",
    "    step 3: Retrieve from X the elements with the indices found above and make those as our first random centers\n",
    "    step 4: assign each point to the nearest centers using the L1-norm as the distance measure (manhattan) and store it in a variable called labels \n",
    "    step 5: Update the centroids of each cluster using the median and store in a variable called new_centers\n",
    "    step 6: while the new_centers (from step 5) are not equal to the previously created centers, repeat the process in step 4 and 5.\n",
    "    \n",
    "    \"\"\"\n",
    "\n",
    "    # 1. Randomly choose clusters\n",
    "\n",
    "    rng = np.random.RandomState(rseed) # generate a random number\n",
    "    i = rng.permutation(X.shape[0])[:n_clusters] #get the n_cluster first elements from a randomly permulated sequence with length equal to the number of rows in X\n",
    "    centers = X[i] # retrieve from X the elements with index as found above and make those as our first random centers\n",
    "\n",
    "    while True:\n",
    "        # 2a. Assign labels based on closest center\n",
    "\n",
    "        labels = pairwise_distances_argmin(X, centers, metric=\"manhattan\")\n",
    "\n",
    "        # 2b. Find new centers from means of points\n",
    "\n",
    "        new_centers = []\n",
    "        for i in range(n_clusters):\n",
    "            updated_center = np.median(X[labels == i], axis=0)\n",
    "            new_centers.append(updated_center)\n",
    "\n",
    "        new_centers = np.array(new_centers)\n",
    "\n",
    "        # 2c. Check for convergence\n",
    "        if np.all(centers == new_centers):\n",
    "            break\n",
    "        centers = new_centers\n",
    "\n",
    "\n",
    "        fig, ax = plt.subplots()\n",
    "        clear_output(wait=True)\n",
    "        ax.scatter(X[:, 0], X[:, 1], c=labels, s=50, cmap='viridis')\n",
    "        # plot the centroids also\n",
    "        ax.scatter(centers[:, 0], centers[:, 1], c='black', s=100, alpha=0.9)\n",
    "        plt.pause(0.5)\n",
    "        plt.show()\n",
    "\n",
    "    return centers, labels"
   ]
  },
  {
   "cell_type": "code",
   "execution_count": 1045,
   "metadata": {
    "tags": []
   },
   "outputs": [
    {
     "data": {
      "image/png": "[encoded data removed]",
      "text/plain": [
       "<Figure size 432x288 with 1 Axes>"
      ]
     },
     "metadata": {
      "needs_background": "light"
     },
     "output_type": "display_data"
    },
    {
     "data": {
      "image/png": "[encoded data removed]",
      "text/plain": [
       "<Figure size 432x288 with 1 Axes>"
      ]
     },
     "metadata": {
      "needs_background": "light"
     },
     "output_type": "display_data"
    }
   ],
   "source": [
    "# do not delete this!\n",
    "\n",
    "centers, labels = Kmedians(data_standardized.values, number_of_clusters)\n",
    "\n",
    "s_s, pu = evaluation_metrics(data_standardized.values, labels, wine.target, 'euclidean', rseed = RSEED)\n",
    "\n",
    "\n",
    "sns.scatterplot(x=pca_2d[:, 0],y=pca_2d[:, 1], hue=labels)\n",
    "if pu == None:\n",
    "    plt.title(\"Wine Kmedians, PU: {},  SS: {}\".format(pu, np.round(s_s, decimals=3)))\n",
    "else:\n",
    "    plt.title(\"Wine Kmedians, PU: {},  SS: {}\".format(np.round(pu, decimals=3), np.round(s_s, decimals=3)))"
   ]
  },
  {
   "cell_type": "markdown",
   "metadata": {},
   "source": [
    "## `NOTE: Each function you make will be graded, so it is important to strictly follow input and output instructions stated in the skeleton code. Some of the cells have already some variables that are filled with None values or empty dataframes, you should change those nan/empty values (we refer to it as 'change this') to what is asked in the tasks (we only stored the empty values so the whole notebook can run error free). You should not delete any of the given cells as they will help us grade the assignment. Some cells ask you to uncomment some comments, please only do so if you have solved the respective task. When you are finished with implementing all the tasks, clear all outputs,  **restart the kernel**, run all cells again (make sure there is no error) and submit! Make sure that the results and figures asked are visible for us to grade. ` \n"
   ]
  },
  {
   "cell_type": "markdown",
   "metadata": {},
   "source": [
    "# END OF ASSIGNMENT 2"
   ]
  },
  {
   "cell_type": "markdown",
   "metadata": {},
   "source": []
  }
 ],
 "metadata": {
  "interpreter": {
   "hash": "d152863b18335c47a24d1450da55dce515e7f4874b41ba8bc3d23bdf8dfe1916"
  },
  "kernelspec": {
   "display_name": "Python 3",
   "language": "python",
   "name": "python3"
  },
  "language_info": {
   "codemirror_mode": {
    "name": "ipython",
    "version": 3
   },
   "file_extension": ".py",
   "mimetype": "text/x-python",
   "name": "python",
   "nbconvert_exporter": "python",
   "pygments_lexer": "ipython3",
   "version": "3.6.13"
  }
 },
 "nbformat": 4,
 "nbformat_minor": 2
}
